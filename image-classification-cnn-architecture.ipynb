{
  "nbformat": 4,
  "nbformat_minor": 0,
  "metadata": {
    "colab": {
      "name": "Submission_Dicoding - Revisi - dicoding sub.ipynb",
      "provenance": [],
      "collapsed_sections": [],
      "include_colab_link": true
    },
    "kernelspec": {
      "display_name": "Python 3",
      "name": "python3"
    },
    "language_info": {
      "name": "python"
    }
  },
  "cells": [
    {
      "cell_type": "markdown",
      "metadata": {
        "id": "view-in-github",
        "colab_type": "text"
      },
      "source": [
        "<a href=\"https://colab.research.google.com/github/nikenaml/gai-bai-bo-game-architecture/blob/master/image-classification-cnn-architecture.ipynb\" target=\"_parent\"><img src=\"https://colab.research.google.com/assets/colab-badge.svg\" alt=\"Open In Colab\"/></a>"
      ]
    },
    {
      "cell_type": "markdown",
      "metadata": {
        "id": "wPbkcpzLCLra"
      },
      "source": [
        "# Personal Information"
      ]
    },
    {
      "cell_type": "markdown",
      "metadata": {
        "id": "yYFtfvw8ivqZ"
      },
      "source": [
        "    Nama     : Niken Amelia\n",
        "    Email    : niken.aml99@gmail.com\n",
        "    No. HP   : 085311321124\n",
        "    LinkedIn : https://www.linkedin.com/in/nikenamelia/\n",
        "    Github   : https://github.com/nikenaml"
      ]
    },
    {
      "cell_type": "markdown",
      "metadata": {
        "id": "sd7PimsjSxUr"
      },
      "source": [
        "# Load Dataset"
      ]
    },
    {
      "cell_type": "code",
      "metadata": {
        "colab": {
          "base_uri": "https://localhost:8080/"
        },
        "id": "kxP2nVMeL0RI",
        "outputId": "fbcd85cc-45e4-4f7a-a4f8-2b1aa1ee86eb"
      },
      "source": [
        "# before using tensorflow, first check the version of the module you are using\n",
        "import tensorflow as tf\n",
        "print(tf.__version__)"
      ],
      "execution_count": 32,
      "outputs": [
        {
          "output_type": "stream",
          "text": [
            "2.5.0\n"
          ],
          "name": "stdout"
        }
      ]
    },
    {
      "cell_type": "code",
      "metadata": {
        "colab": {
          "base_uri": "https://localhost:8080/"
        },
        "id": "_0ZYQ5GFV4Ew",
        "outputId": "7037db3c-ff18-4436-8d98-69c124cbd1d1"
      },
      "source": [
        "# download dataset and create temporary place with zip filename\n",
        "!wget --no-check-certificate \\\n",
        "   https://dicodingacademy.blob.core.windows.net/picodiploma/ml_pemula_academy/rockpaperscissors.zip \\\n",
        "   -O /tmp/rps.zip"
      ],
      "execution_count": 33,
      "outputs": [
        {
          "output_type": "stream",
          "text": [
            "--2021-07-14 23:44:14--  https://dicodingacademy.blob.core.windows.net/picodiploma/ml_pemula_academy/rockpaperscissors.zip\n",
            "Resolving dicodingacademy.blob.core.windows.net (dicodingacademy.blob.core.windows.net)... 52.239.197.36\n",
            "Connecting to dicodingacademy.blob.core.windows.net (dicodingacademy.blob.core.windows.net)|52.239.197.36|:443... connected.\n",
            "HTTP request sent, awaiting response... 200 OK\n",
            "Length: 322873683 (308M) [application/zip]\n",
            "Saving to: ‘/tmp/rps.zip’\n",
            "\n",
            "/tmp/rps.zip        100%[===================>] 307.92M  7.92MB/s    in 55s     \n",
            "\n",
            "2021-07-14 23:45:10 (5.56 MB/s) - ‘/tmp/rps.zip’ saved [322873683/322873683]\n",
            "\n"
          ],
          "name": "stdout"
        }
      ]
    },
    {
      "cell_type": "code",
      "metadata": {
        "id": "d0khSSP8UvBa"
      },
      "source": [
        "# extract the zip file\n",
        "import zipfile\n",
        "\n",
        "tmp_zip = '/tmp/rps.zip'\n",
        "\n",
        "rps_zip = zipfile.ZipFile(tmp_zip, 'r')\n",
        "rps_zip.extractall('/content/drive/My Drive')\n",
        "rps_zip.close()"
      ],
      "execution_count": 38,
      "outputs": []
    },
    {
      "cell_type": "code",
      "metadata": {
        "id": "z4gL00_6x82C"
      },
      "source": [
        "import os"
      ],
      "execution_count": 39,
      "outputs": []
    },
    {
      "cell_type": "code",
      "metadata": {
        "id": "X-9fDMBSrESI",
        "colab": {
          "base_uri": "https://localhost:8080/"
        },
        "outputId": "c9bf6a7a-5eb6-4522-a36c-c7dee50a5e9d"
      },
      "source": [
        "# check the data in the directory\n",
        "os.listdir('/content/drive/My Drive/rockpaperscissors/rps-cv-images')"
      ],
      "execution_count": 40,
      "outputs": [
        {
          "output_type": "execute_result",
          "data": {
            "text/plain": [
              "['README_rpc-cv-images.txt', 'paper', 'scissors', 'rock']"
            ]
          },
          "metadata": {
            "tags": []
          },
          "execution_count": 40
        }
      ]
    },
    {
      "cell_type": "markdown",
      "metadata": {
        "id": "BhNqfo9GayTb"
      },
      "source": [
        "# Data Splitting\n",
        "\n",
        "Specifies the storage directory of the entire dataset"
      ]
    },
    {
      "cell_type": "code",
      "metadata": {
        "id": "nIBwpvZYIoxZ",
        "colab": {
          "base_uri": "https://localhost:8080/"
        },
        "outputId": "383c2d72-876c-40c8-82d4-ded6c4cd777a"
      },
      "source": [
        "# install package the necessary packages\n",
        "!pip install split-folders"
      ],
      "execution_count": 41,
      "outputs": [
        {
          "output_type": "stream",
          "text": [
            "Requirement already satisfied: split-folders in /usr/local/lib/python3.7/dist-packages (0.4.3)\n"
          ],
          "name": "stdout"
        }
      ]
    },
    {
      "cell_type": "code",
      "metadata": {
        "id": "Ml2sgSKOIvAU",
        "colab": {
          "base_uri": "https://localhost:8080/"
        },
        "outputId": "3640dfec-7404-4203-f575-03ffa155506c"
      },
      "source": [
        "import splitfolders\n",
        "root_dir = '/content/drive/My Drive/rockpaperscissors/rps-cv-images'\n",
        "splitfolders.ratio(root_dir, output = \"/content/drive/My Drive/rockpaperscissors\", ratio = (.6, .4))\n",
        "\n",
        "# Create initial directory for training data and validation data\n",
        "# train_dir = os.path.join(\"/content/drive/My Drive/rockpaperscissors\", \"train\")\n",
        "# validation_dir = os.path.join(\"/content/drive/My Drive/rockpaperscissors\", \"val\")"
      ],
      "execution_count": 42,
      "outputs": [
        {
          "output_type": "stream",
          "text": [
            "Copying files: 2188 files [00:00, 2226.41 files/s]\n"
          ],
          "name": "stderr"
        }
      ]
    },
    {
      "cell_type": "markdown",
      "metadata": {
        "id": "KeXuAd7gZtLD"
      },
      "source": [
        "## Preview image for data splitting"
      ]
    },
    {
      "cell_type": "code",
      "metadata": {
        "id": "hSCoYzeYY2e_"
      },
      "source": [
        "# Specify the storage directory for each label\n",
        "train = {}\n",
        "test = {}\n",
        "\n",
        "path = \"/content/drive/My Drive/rockpaperscissors/\"\n",
        "\n",
        "# Make dictionary storing images for each category under train data.\n",
        "path_train = os.path.join(path, \"train\")\n",
        "for i in os.listdir(path_train):\n",
        "    train[i] = os.listdir(os.path.join(path_train, i))\n",
        "\n",
        "# Make dictionary storing images for each category under test data.\n",
        "path_test = os.path.join(path, \"val\")\n",
        "for i in os.listdir(path_test):\n",
        "    test[i] = os.listdir(os.path.join(path_test, i))"
      ],
      "execution_count": 46,
      "outputs": []
    },
    {
      "cell_type": "markdown",
      "metadata": {
        "id": "loxrJEumb92C"
      },
      "source": [
        "## Check values of data splitting"
      ]
    },
    {
      "cell_type": "code",
      "metadata": {
        "colab": {
          "base_uri": "https://localhost:8080/"
        },
        "id": "qFeDWTGFYPLq",
        "outputId": "ba0d84d5-e40f-4a20-8d30-33544723b647"
      },
      "source": [
        "sum(len(v) for v in train.values())"
      ],
      "execution_count": 47,
      "outputs": [
        {
          "output_type": "execute_result",
          "data": {
            "text/plain": [
              "1312"
            ]
          },
          "metadata": {
            "tags": []
          },
          "execution_count": 47
        }
      ]
    },
    {
      "cell_type": "code",
      "metadata": {
        "colab": {
          "base_uri": "https://localhost:8080/"
        },
        "id": "mO9xVicna_nD",
        "outputId": "a9b3641b-c1ec-4c5e-a2aa-27de55b7a1d3"
      },
      "source": [
        " sum(map(len, test.values()))"
      ],
      "execution_count": 48,
      "outputs": [
        {
          "output_type": "execute_result",
          "data": {
            "text/plain": [
              "876"
            ]
          },
          "metadata": {
            "tags": []
          },
          "execution_count": 48
        }
      ]
    },
    {
      "cell_type": "code",
      "metadata": {
        "colab": {
          "base_uri": "https://localhost:8080/",
          "height": 248
        },
        "id": "xaV3vlaGZ8Ju",
        "outputId": "b14aa285-f76e-434b-970a-896979f4437d"
      },
      "source": [
        "# Make a pie-chart to visualize the percentage contribution of each category.\n",
        "# This is often useful when you want your dataset to be balanced.\n",
        "fig, ax = plt.subplots()\n",
        "ax.pie(\n",
        "    [len(train[item]) for item in train],\n",
        "    labels = train.keys(),\n",
        "    autopct = \"%1.1f%%\"\n",
        ")\n",
        "fig.show()"
      ],
      "execution_count": 49,
      "outputs": [
        {
          "output_type": "display_data",
          "data": {
            "image/png": "[encoded data removed]",
            "text/plain": [
              "<Figure size 432x288 with 1 Axes>"
            ]
          },
          "metadata": {
            "tags": []
          }
        }
      ]
    },
    {
      "cell_type": "markdown",
      "metadata": {
        "id": "EvJVslqIrA-6"
      },
      "source": [
        "# Image Preprocessing"
      ]
    },
    {
      "cell_type": "markdown",
      "metadata": {
        "id": "XGjFU8vBrG72"
      },
      "source": [
        "- Create an image data generator (preprocessing, image object labeling & image augmentation) to prepare training data and data validation\n",
        "- This step is for the image augmentation process in order to be able to create new data from existing data\n",
        "\n",
        "Enhance the image by scaling it to 1/255 and applying a horizontal and vertical flip."
      ]
    },
    {
      "cell_type": "code",
      "metadata": {
        "id": "DX_8HQSmw3qx"
      },
      "source": [
        "from tensorflow.keras.preprocessing.image import ImageDataGenerator"
      ],
      "execution_count": 50,
      "outputs": []
    },
    {
      "cell_type": "code",
      "metadata": {
        "id": "EXy6gKiughza"
      },
      "source": [
        "train_datagen = ImageDataGenerator(\n",
        "    rescale = 1./255,\n",
        "    rotation_range=10,\n",
        "    zoom_range=0.2,\n",
        "    width_shift_range=0.2,\n",
        "    height_shift_range=0.2,\n",
        "    shear_range=0.2,\n",
        "    horizontal_flip=True,\n",
        "    vertical_flip=False,\n",
        "    fill_mode=\"nearest\")\n",
        "\n",
        "test_datagen = ImageDataGenerator(rescale = 1/255)"
      ],
      "execution_count": 15,
      "outputs": []
    },
    {
      "cell_type": "markdown",
      "metadata": {
        "id": "Btpa2YOGuaeC"
      },
      "source": [
        "Prepare train data and data validation to be learned by the model"
      ]
    },
    {
      "cell_type": "code",
      "metadata": {
        "id": "jzUA0IVluWHt",
        "colab": {
          "base_uri": "https://localhost:8080/"
        },
        "outputId": "e539b063-bc76-488e-c9a1-9b848aa31f13"
      },
      "source": [
        "# Put the image data generator in the train_dir & validation_dir variables\n",
        "train_generator = train_datagen.flow_from_directory(\n",
        "        path_train,\n",
        "        target_size=(200, 300),\n",
        "        batch_size=32,\n",
        "        class_mode='categorical',\n",
        "        seed=42)\n",
        "\n",
        "validation_generator = test_datagen.flow_from_directory(\n",
        "        path_test,\n",
        "        target_size=(200, 300),\n",
        "        batch_size=32,\n",
        "        class_mode='categorical',\n",
        "        seed=42)"
      ],
      "execution_count": 51,
      "outputs": [
        {
          "output_type": "stream",
          "text": [
            "Found 1312 images belonging to 3 classes.\n",
            "Found 876 images belonging to 3 classes.\n"
          ],
          "name": "stdout"
        }
      ]
    },
    {
      "cell_type": "markdown",
      "metadata": {
        "id": "ZEkX2uHV1orx"
      },
      "source": [
        "# Modeling\n",
        "\n",
        "Neural network model creation and training"
      ]
    },
    {
      "cell_type": "code",
      "metadata": {
        "id": "Sbsyw60v1y_5"
      },
      "source": [
        "# Create a 2D CNN architecture model\n",
        "import tensorflow as tf\n",
        "\n",
        "# Create mock conditional network for CNN model\n",
        "model = tf.keras.models.Sequential([\n",
        "    tf.keras.layers.Conv2D(16, (3,3), activation='relu', input_shape=(200, 300, 3)), # Added the first CNN layer\n",
        "    tf.keras.layers.MaxPooling2D(2, 2),\n",
        "    tf.keras.layers.Conv2D(32, (3,3), activation='relu'), # Added second CNN layer\n",
        "    tf.keras.layers.MaxPooling2D(2,2),\n",
        "    tf.keras.layers.Conv2D(64, (3,3), activation='relu'), # Added third CNN layer\n",
        "    tf.keras.layers.MaxPooling2D(2,2),\n",
        "    tf.keras.layers.Conv2D(128, (3,3), activation='relu'), # Added fourth CNN layer\n",
        "    tf.keras.layers.MaxPooling2D(2,2),\n",
        "    # tf.keras.layers.Dropout(0.25),\n",
        "    tf.keras.layers.Conv2D(256, (3,3), activation='relu'), # Added fifth CNN layer\n",
        "    tf.keras.layers.MaxPooling2D(2,2),\n",
        "    tf.keras.layers.Dropout(0.25),\n",
        "    tf.keras.layers.Flatten(), \n",
        "    tf.keras.layers.Dense(512, activation='relu'), # Create hidden layers\n",
        "    tf.keras.layers.Dense(3, activation='softmax') # Adding an output layer                       \n",
        "])"
      ],
      "execution_count": 62,
      "outputs": []
    },
    {
      "cell_type": "code",
      "metadata": {
        "colab": {
          "base_uri": "https://localhost:8080/"
        },
        "id": "Sx-MoLOKd8xT",
        "outputId": "3357ba98-2aae-4eae-9db6-26c0c0dd1db3"
      },
      "source": [
        "model.summary()"
      ],
      "execution_count": 63,
      "outputs": [
        {
          "output_type": "stream",
          "text": [
            "Model: \"sequential_3\"\n",
            "_________________________________________________________________\n",
            "Layer (type)                 Output Shape              Param #   \n",
            "=================================================================\n",
            "conv2d_15 (Conv2D)           (None, 198, 298, 16)      448       \n",
            "_________________________________________________________________\n",
            "max_pooling2d_15 (MaxPooling (None, 99, 149, 16)       0         \n",
            "_________________________________________________________________\n",
            "conv2d_16 (Conv2D)           (None, 97, 147, 32)       4640      \n",
            "_________________________________________________________________\n",
            "max_pooling2d_16 (MaxPooling (None, 48, 73, 32)        0         \n",
            "_________________________________________________________________\n",
            "conv2d_17 (Conv2D)           (None, 46, 71, 64)        18496     \n",
            "_________________________________________________________________\n",
            "max_pooling2d_17 (MaxPooling (None, 23, 35, 64)        0         \n",
            "_________________________________________________________________\n",
            "conv2d_18 (Conv2D)           (None, 21, 33, 128)       73856     \n",
            "_________________________________________________________________\n",
            "max_pooling2d_18 (MaxPooling (None, 10, 16, 128)       0         \n",
            "_________________________________________________________________\n",
            "conv2d_19 (Conv2D)           (None, 8, 14, 256)        295168    \n",
            "_________________________________________________________________\n",
            "max_pooling2d_19 (MaxPooling (None, 4, 7, 256)         0         \n",
            "_________________________________________________________________\n",
            "dropout_9 (Dropout)          (None, 4, 7, 256)         0         \n",
            "_________________________________________________________________\n",
            "flatten_3 (Flatten)          (None, 7168)              0         \n",
            "_________________________________________________________________\n",
            "dense_6 (Dense)              (None, 512)               3670528   \n",
            "_________________________________________________________________\n",
            "dense_7 (Dense)              (None, 3)                 1539      \n",
            "=================================================================\n",
            "Total params: 4,064,675\n",
            "Trainable params: 4,064,675\n",
            "Non-trainable params: 0\n",
            "_________________________________________________________________\n"
          ],
          "name": "stdout"
        }
      ]
    },
    {
      "cell_type": "markdown",
      "metadata": {
        "id": "peVuYLIqw8bK"
      },
      "source": [
        "## Use of RMSprop optimizer and loss categorical_crossentropy"
      ]
    },
    {
      "cell_type": "code",
      "metadata": {
        "id": "DiLvYGin-aGK"
      },
      "source": [
        "# Compile CNN  with opt, loss, dan matrics score\n",
        "# optimizer RMSprop dan loss categorical_crossentropy\n",
        "rmsprop = tf.keras.optimizers.RMSprop(learning_rate=0.0001)\n",
        "model.compile(loss='categorical_crossentropy'\n",
        "              ,optimizer=rmsprop\n",
        "              ,metrics=['accuracy'])"
      ],
      "execution_count": 64,
      "outputs": []
    },
    {
      "cell_type": "code",
      "metadata": {
        "id": "hGhCYUVsjrfa"
      },
      "source": [
        "from tensorflow.keras.callbacks import *\n",
        "\n",
        "# Call Back class to stop the Training process of Model if accuracy of training reaches 92%\n",
        "# callback\n",
        "\n",
        "class myCallback(tf.keras.callbacks.Callback):\n",
        "  def on_epoch_end(self, epoch, logs={}):\n",
        "    if(logs.get('accuracy')>0.97 and logs.get('val_accuracy')>0.97):\n",
        "      self.model.stop_training = True\n",
        "      print(\"\\nThe accuracy of the training set and the validation set has reached > 97%!\")\n",
        "callbacks = myCallback()"
      ],
      "execution_count": 65,
      "outputs": []
    },
    {
      "cell_type": "code",
      "metadata": {
        "id": "mX6H_pvnlg0H"
      },
      "source": [
        "# Using early stopping to exit training if validation loss is not decreasing even after certain epochs (patience)\n",
        "earlystopping = EarlyStopping(\n",
        "    monitor = 'val_loss', \n",
        "    verbose = 1, \n",
        "    patience = 20\n",
        ")\n",
        "\n",
        "# save the best model with lower loss\n",
        "checkpointer = ModelCheckpoint(\n",
        "    filepath = \"weights.hdf5\", \n",
        "    verbose = 1, \n",
        "    save_best_only = True\n",
        ")\n",
        "\n",
        "# https://stackoverflow.com/questions/56687658/keras-earlystopping-is-not-recognized"
      ],
      "execution_count": 66,
      "outputs": []
    },
    {
      "cell_type": "code",
      "metadata": {
        "colab": {
          "base_uri": "https://localhost:8080/"
        },
        "id": "TKG4xNsT-cp0",
        "outputId": "cad9119d-567b-4e8d-fcf1-0c2e602a87fc"
      },
      "source": [
        "import time\n",
        "time_array = []\n",
        "\n",
        "start_time = time.time()\n",
        "\n",
        "# Start the training of Neural Network\n",
        "# fit the neural network model to the data.\n",
        "history = model.fit(\n",
        "      train_generator,\n",
        "      steps_per_epoch=train_generator.samples // train_generator.batch_size,\n",
        "      epochs=50,\n",
        "      batch_size = 32,\n",
        "      validation_data=validation_generator,\n",
        "      validation_steps=validation_generator.samples // validation_generator.batch_size,\n",
        "      verbose=1,\n",
        "      callbacks=[callbacks, checkpointer, earlystopping], # Fit the model passing it the callback we created\n",
        "      )\n",
        "\n",
        "print(\"--- %.2f menit ---\" % ((time.time() - start_time)/60))\n",
        "time_array.append(time.time() - start_time)"
      ],
      "execution_count": 67,
      "outputs": [
        {
          "output_type": "stream",
          "text": [
            "Epoch 1/50\n",
            "41/41 [==============================] - 128s 3s/step - loss: 0.9584 - accuracy: 0.5556 - val_loss: 0.7192 - val_accuracy: 0.7766\n",
            "\n",
            "Epoch 00001: val_loss improved from inf to 0.71922, saving model to weights.hdf5\n",
            "Epoch 2/50\n",
            "41/41 [==============================] - 125s 3s/step - loss: 0.5472 - accuracy: 0.8232 - val_loss: 0.4273 - val_accuracy: 0.8542\n",
            "\n",
            "Epoch 00002: val_loss improved from 0.71922 to 0.42731, saving model to weights.hdf5\n",
            "Epoch 3/50\n",
            "41/41 [==============================] - 125s 3s/step - loss: 0.3714 - accuracy: 0.8796 - val_loss: 0.3146 - val_accuracy: 0.8912\n",
            "\n",
            "Epoch 00003: val_loss improved from 0.42731 to 0.31459, saving model to weights.hdf5\n",
            "Epoch 4/50\n",
            "41/41 [==============================] - 127s 3s/step - loss: 0.3020 - accuracy: 0.9047 - val_loss: 0.4755 - val_accuracy: 0.8426\n",
            "\n",
            "Epoch 00004: val_loss did not improve from 0.31459\n",
            "Epoch 5/50\n",
            "41/41 [==============================] - 127s 3s/step - loss: 0.2688 - accuracy: 0.9062 - val_loss: 0.3397 - val_accuracy: 0.8588\n",
            "\n",
            "Epoch 00005: val_loss did not improve from 0.31459\n",
            "Epoch 6/50\n",
            "41/41 [==============================] - 128s 3s/step - loss: 0.2383 - accuracy: 0.9192 - val_loss: 0.2233 - val_accuracy: 0.9294\n",
            "\n",
            "Epoch 00006: val_loss improved from 0.31459 to 0.22330, saving model to weights.hdf5\n",
            "Epoch 7/50\n",
            "41/41 [==============================] - 128s 3s/step - loss: 0.2035 - accuracy: 0.9329 - val_loss: 0.2339 - val_accuracy: 0.9132\n",
            "\n",
            "Epoch 00007: val_loss did not improve from 0.22330\n",
            "Epoch 8/50\n",
            "41/41 [==============================] - 127s 3s/step - loss: 0.1825 - accuracy: 0.9337 - val_loss: 0.2242 - val_accuracy: 0.9259\n",
            "\n",
            "Epoch 00008: val_loss did not improve from 0.22330\n",
            "Epoch 9/50\n",
            "41/41 [==============================] - 127s 3s/step - loss: 0.1594 - accuracy: 0.9497 - val_loss: 0.1564 - val_accuracy: 0.9537\n",
            "\n",
            "Epoch 00009: val_loss improved from 0.22330 to 0.15644, saving model to weights.hdf5\n",
            "Epoch 10/50\n",
            "41/41 [==============================] - 127s 3s/step - loss: 0.1755 - accuracy: 0.9413 - val_loss: 0.1520 - val_accuracy: 0.9491\n",
            "\n",
            "Epoch 00010: val_loss improved from 0.15644 to 0.15198, saving model to weights.hdf5\n",
            "Epoch 11/50\n",
            "41/41 [==============================] - 126s 3s/step - loss: 0.1572 - accuracy: 0.9527 - val_loss: 0.1109 - val_accuracy: 0.9653\n",
            "\n",
            "Epoch 00011: val_loss improved from 0.15198 to 0.11086, saving model to weights.hdf5\n",
            "Epoch 12/50\n",
            "41/41 [==============================] - 126s 3s/step - loss: 0.1373 - accuracy: 0.9581 - val_loss: 0.1037 - val_accuracy: 0.9641\n",
            "\n",
            "Epoch 00012: val_loss improved from 0.11086 to 0.10366, saving model to weights.hdf5\n",
            "Epoch 13/50\n",
            "41/41 [==============================] - 127s 3s/step - loss: 0.1155 - accuracy: 0.9596 - val_loss: 0.1194 - val_accuracy: 0.9572\n",
            "\n",
            "Epoch 00013: val_loss did not improve from 0.10366\n",
            "Epoch 14/50\n",
            "41/41 [==============================] - 127s 3s/step - loss: 0.1331 - accuracy: 0.9649 - val_loss: 0.1623 - val_accuracy: 0.9502\n",
            "\n",
            "Epoch 00014: val_loss did not improve from 0.10366\n",
            "Epoch 15/50\n",
            "41/41 [==============================] - 126s 3s/step - loss: 0.1121 - accuracy: 0.9619 - val_loss: 0.1161 - val_accuracy: 0.9560\n",
            "\n",
            "Epoch 00015: val_loss did not improve from 0.10366\n",
            "Epoch 16/50\n",
            "41/41 [==============================] - 126s 3s/step - loss: 0.1142 - accuracy: 0.9619 - val_loss: 0.1030 - val_accuracy: 0.9641\n",
            "\n",
            "Epoch 00016: val_loss improved from 0.10366 to 0.10298, saving model to weights.hdf5\n",
            "Epoch 17/50\n",
            "41/41 [==============================] - 126s 3s/step - loss: 0.1004 - accuracy: 0.9695 - val_loss: 0.1258 - val_accuracy: 0.9595\n",
            "\n",
            "Epoch 00017: val_loss did not improve from 0.10298\n",
            "Epoch 18/50\n",
            "41/41 [==============================] - 126s 3s/step - loss: 0.0946 - accuracy: 0.9703 - val_loss: 0.1002 - val_accuracy: 0.9630\n",
            "\n",
            "Epoch 00018: val_loss improved from 0.10298 to 0.10017, saving model to weights.hdf5\n",
            "Epoch 19/50\n",
            "41/41 [==============================] - 127s 3s/step - loss: 0.0899 - accuracy: 0.9695 - val_loss: 0.0923 - val_accuracy: 0.9688\n",
            "\n",
            "Epoch 00019: val_loss improved from 0.10017 to 0.09226, saving model to weights.hdf5\n",
            "Epoch 20/50\n",
            "41/41 [==============================] - 125s 3s/step - loss: 0.0701 - accuracy: 0.9741 - val_loss: 0.0883 - val_accuracy: 0.9722\n",
            "\n",
            "The accuracy of the training set and the validation set has reached > 97%!\n",
            "\n",
            "Epoch 00020: val_loss improved from 0.09226 to 0.08829, saving model to weights.hdf5\n",
            "--- 45.26 menit ---\n"
          ],
          "name": "stdout"
        }
      ]
    },
    {
      "cell_type": "markdown",
      "metadata": {
        "id": "Vnrgi3fsC1oG"
      },
      "source": [
        "# Plot Visualization Accuracy and Loss Each Epoch\n",
        "\n",
        "- Make a visualization of the results of the neural network between loss, validation loss and accuracy, validation accuracy\n"
      ]
    },
    {
      "cell_type": "code",
      "metadata": {
        "id": "aLiI2SKJCqoZ"
      },
      "source": [
        "# define function plot visualization training and validation process\n",
        "def plot_history(history):\n",
        "    acc = history.history['accuracy']\n",
        "    val_acc = history.history['val_accuracy']\n",
        "    loss = history.history['loss']\n",
        "    val_loss = history.history['val_loss']\n",
        "    x = range(1, len(acc) + 1)\n",
        "\n",
        "    print(\"Training Accuracy: %.2f\" % acc[-1])\n",
        "    print(\"Training Loss: %.2f\" % loss[-1])\n",
        "    print(\"Validation Accuracy: %.2f\" % val_acc[-1])\n",
        "    print(\"Validation Loss: %.2f\" % val_loss[-1] + '\\n\\n')\n",
        "\n",
        "    # make a visualization of the results of the neural network between loss, validation loss and accuracy, validation accuracy\n",
        "    plt.figure(figsize=(15, 5))\n",
        "\n",
        "    # create visualizations for accuracy values in the training and validation process\n",
        "    plt.subplot(1, 2, 1)\n",
        "    plt.plot(acc, 'b', label='Train acc')\n",
        "    plt.plot(val_acc, 'r', label='Validation acc')\n",
        "    plt.title('Train and validation accuracy Visualization')\n",
        "    plt.xlabel(\"Jumlah Epochs\")\n",
        "    plt.legend()\n",
        "\n",
        "    # create visualizations for loss values in the training and validation process\n",
        "    plt.subplot(1, 2, 2)\n",
        "    plt.plot(loss, 'b', label='Train loss')\n",
        "    plt.plot(val_loss, 'r', label='Validation loss')\n",
        "    plt.title('Train and validation loss Visualization')\n",
        "    plt.legend()"
      ],
      "execution_count": 68,
      "outputs": []
    },
    {
      "cell_type": "code",
      "metadata": {
        "id": "zIDwV4HlDC78",
        "colab": {
          "base_uri": "https://localhost:8080/",
          "height": 457
        },
        "outputId": "9b6214bf-edf7-4116-8733-b52e8aa1a7b3"
      },
      "source": [
        "plot_history(history)"
      ],
      "execution_count": 69,
      "outputs": [
        {
          "output_type": "stream",
          "text": [
            "Training Accuracy: 0.97\n",
            "Training Loss: 0.07\n",
            "Validation Accuracy: 0.97\n",
            "Validation Loss: 0.09\n",
            "\n",
            "\n"
          ],
          "name": "stdout"
        },
        {
          "output_type": "display_data",
          "data": {
            "image/png": "[encoded data removed]",
            "text/plain": [
              "<Figure size 1080x360 with 2 Axes>"
            ]
          },
          "metadata": {
            "tags": [],
            "needs_background": "light"
          }
        }
      ]
    },
    {
      "cell_type": "markdown",
      "metadata": {
        "id": "1wF2qPRuB-5j"
      },
      "source": [
        "# Predicting Image"
      ]
    },
    {
      "cell_type": "code",
      "metadata": {
        "id": "-6qnyfLSB_hM"
      },
      "source": [
        "import numpy as np\n",
        "from google.colab import files\n",
        "from keras.preprocessing import image\n",
        "%matplotlib inline"
      ],
      "execution_count": 70,
      "outputs": []
    },
    {
      "cell_type": "code",
      "metadata": {
        "colab": {
          "resources": {
            "http://localhost:8080/nbextensions/google.colab/files.js": {
              "data": "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",
              "ok": true,
              "headers": [
                [
                  "content-type",
                  "application/javascript"
                ]
              ],
              "status": 200,
              "status_text": ""
            }
          },
          "base_uri": "https://localhost:8080/",
          "height": 396
        },
        "id": "uE_39RVnCF7O",
        "outputId": "bf374ca0-b8de-44a0-ddfc-960e03f16354"
      },
      "source": [
        "uploaded = files.upload()\n",
        " \n",
        "for fn in uploaded.keys():\n",
        " \n",
        "  # predicting images\n",
        "  path = fn\n",
        "  img = image.load_img(path, target_size=(200,300))\n",
        "  imgplot = plt.imshow(img)\n",
        "  x = image.img_to_array(img)\n",
        "  x = np.expand_dims(x, axis=0)\n",
        " \n",
        "  images = np.vstack([x])\n",
        "  classes = model.predict(images, batch_size=10)\n",
        "  y_classes = classes.argmax(axis=-1)\n",
        "\n",
        "\n",
        "  print('\\n\\nNama file kamu adalah: ' + fn)\n",
        "  if y_classes==0:\n",
        "    print('Kamu telah mengeluarkan kertas')\n",
        "  elif y_classes==1:\n",
        "    print('Kamu telah mengeluarkan batu')\n",
        "  else:\n",
        "    print('Kamu telah mengeluarkan gunting')\n"
      ],
      "execution_count": 71,
      "outputs": [
        {
          "output_type": "display_data",
          "data": {
            "text/html": [
              "\n",
              "     <input type=\"file\" id=\"files-3bd475eb-92dc-4c48-a6a5-54bb760c2e29\" name=\"files[]\" multiple disabled\n",
              "        style=\"border:none\" />\n",
              "     <output id=\"result-3bd475eb-92dc-4c48-a6a5-54bb760c2e29\">\n",
              "      Upload widget is only available when the cell has been executed in the\n",
              "      current browser session. Please rerun this cell to enable.\n",
              "      </output>\n",
              "      <script src=\"/nbextensions/google.colab/files.js\"></script> "
            ],
            "text/plain": [
              "<IPython.core.display.HTML object>"
            ]
          },
          "metadata": {
            "tags": []
          }
        },
        {
          "output_type": "stream",
          "text": [
            "Saving gunting-ijo.jpg to gunting-ijo.jpg\n",
            "\n",
            "\n",
            "Nama file kamu adalah: gunting-ijo.jpg\n",
            "Kamu telah mengeluarkan gunting\n"
          ],
          "name": "stdout"
        },
        {
          "output_type": "display_data",
          "data": {
            "image/png": "[encoded data removed]",
            "text/plain": [
              "<Figure size 432x288 with 1 Axes>"
            ]
          },
          "metadata": {
            "tags": [],
            "needs_background": "light"
          }
        }
      ]
    },
    {
      "cell_type": "markdown",
      "metadata": {
        "id": "QkwdPxNGe1Ro"
      },
      "source": [
        "# Summary\n",
        "\n",
        "In this Submission, we use the optimizer type, loss function and change the learning_rate value that is different from the previous exercise, namely the RMSprop Optimizer with the value loss='categorical_crossentropy and learning_rate = 0.0001\n",
        "\n",
        "1. This model has a train accuracy of ~97% and a validation accuracy of ~97%.\n",
        "2. Using the RMSprop Optimizer with loss='categorical_crossentropy and changing the learning_rate value resulted in stable and good test and training scores.\n",
        "3. In my opinion, when predicting an image, the model will give good prediction results when the uploaded image has a green screen background but when the image does not have a green screen background, the prediction results often do not match. This is because the dataset used for training has a uniform background so that the model only recognizes the green screen background.\n",
        "4. In addition, the shooting position can also affect the prediction results, if the image position is different from the sample dataset (because the model learns from the existing data) which causes the model to produce an incorrect image prediction. However, this problem can still be solved by adding a complete set of data containing hand-drawn shapes and sizes from various position directions to minimize errors in handling new test data.\n",
        "5. The assumption obtained is that the sample image used in the test must be similar to the sample image in the training process, in terms of the shooting position with the shape of the image on the image, so that the model is able to predict the image."
      ]
    },
    {
      "cell_type": "code",
      "metadata": {
        "id": "6z2WkYl9y1Da"
      },
      "source": [
        ""
      ],
      "execution_count": null,
      "outputs": []
    }
  ]
}